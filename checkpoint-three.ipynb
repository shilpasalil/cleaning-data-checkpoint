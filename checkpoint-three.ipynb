{
 "cells": [
  {
   "cell_type": "markdown",
   "metadata": {
    "azdata_cell_guid": "26037d32-2047-4157-81ef-595916bd66a0"
   },
   "source": [
    "# Checkpoint Three: Cleaning Data\n",
    "\n",
    "Now you are ready to clean your data. Before starting coding, provide the link to your dataset below.\n",
    "\n",
    "My dataset: https://www.kaggle.com/datasets/kabhishm/top-american-colleges-2022\n",
    "\n",
    "Import the necessary libraries and create your dataframe(s)."
   ]
  },
  {
   "cell_type": "code",
   "execution_count": 1,
   "metadata": {
    "azdata_cell_guid": "e8adef8e-d0f2-4640-a179-5997f11e82ca"
   },
   "outputs": [],
   "source": [
    "# import libraries\n",
    "\n",
    "import numpy as np\n",
    "import pandas as pd\n",
    "import seaborn as sns\n",
    "import matplotlib.pyplot as plt\n",
    "\n",
    "#create data frame using .csv file \n",
    "df = pd.read_csv(\"top_colleges_2022.csv\")"
   ]
  },
  {
   "cell_type": "code",
   "execution_count": 2,
   "metadata": {},
   "outputs": [
    {
     "name": "stdout",
     "output_type": "stream",
     "text": [
      "<class 'pandas.core.frame.DataFrame'>\n",
      "RangeIndex: 498 entries, 0 to 497\n",
      "Data columns (total 25 columns):\n",
      " #   Column                   Non-Null Count  Dtype  \n",
      "---  ------                   --------------  -----  \n",
      " 0   description              498 non-null    object \n",
      " 1   rank                     498 non-null    int64  \n",
      " 2   organizationName         498 non-null    object \n",
      " 3   state                    498 non-null    object \n",
      " 4   studentPopulation        498 non-null    int64  \n",
      " 5   campusSetting            498 non-null    object \n",
      " 6   medianBaseSalary         491 non-null    float64\n",
      " 7   longitude                458 non-null    float64\n",
      " 8   latitude                 458 non-null    float64\n",
      " 9   website                  477 non-null    object \n",
      " 10  phoneNumber              428 non-null    object \n",
      " 11  city                     498 non-null    object \n",
      " 12  country                  498 non-null    object \n",
      " 13  state.1                  498 non-null    object \n",
      " 14  region                   489 non-null    object \n",
      " 15  yearFounded              451 non-null    float64\n",
      " 16  stateCode                489 non-null    object \n",
      " 17  collegeType              498 non-null    object \n",
      " 18  carnegieClassification   498 non-null    object \n",
      " 19  studentFacultyRatio      498 non-null    int64  \n",
      " 20  totalStudentPop          498 non-null    int64  \n",
      " 21  undergradPop             498 non-null    int64  \n",
      " 22  totalGrantAid            495 non-null    float64\n",
      " 23  percentOfStudentsFinAid  495 non-null    float64\n",
      " 24  percentOfStudentsGrant   495 non-null    float64\n",
      "dtypes: float64(7), int64(5), object(13)\n",
      "memory usage: 97.4+ KB\n"
     ]
    },
    {
     "data": {
      "text/html": [
       "<div>\n",
       "<style scoped>\n",
       "    .dataframe tbody tr th:only-of-type {\n",
       "        vertical-align: middle;\n",
       "    }\n",
       "\n",
       "    .dataframe tbody tr th {\n",
       "        vertical-align: top;\n",
       "    }\n",
       "\n",
       "    .dataframe thead th {\n",
       "        text-align: right;\n",
       "    }\n",
       "</style>\n",
       "<table border=\"1\" class=\"dataframe\">\n",
       "  <thead>\n",
       "    <tr style=\"text-align: right;\">\n",
       "      <th></th>\n",
       "      <th>description</th>\n",
       "      <th>rank</th>\n",
       "      <th>organizationName</th>\n",
       "      <th>state</th>\n",
       "      <th>studentPopulation</th>\n",
       "      <th>campusSetting</th>\n",
       "      <th>medianBaseSalary</th>\n",
       "      <th>longitude</th>\n",
       "      <th>latitude</th>\n",
       "      <th>website</th>\n",
       "      <th>...</th>\n",
       "      <th>yearFounded</th>\n",
       "      <th>stateCode</th>\n",
       "      <th>collegeType</th>\n",
       "      <th>carnegieClassification</th>\n",
       "      <th>studentFacultyRatio</th>\n",
       "      <th>totalStudentPop</th>\n",
       "      <th>undergradPop</th>\n",
       "      <th>totalGrantAid</th>\n",
       "      <th>percentOfStudentsFinAid</th>\n",
       "      <th>percentOfStudentsGrant</th>\n",
       "    </tr>\n",
       "  </thead>\n",
       "  <tbody>\n",
       "    <tr>\n",
       "      <th>0</th>\n",
       "      <td>A leading global research university, MIT attr...</td>\n",
       "      <td>1</td>\n",
       "      <td>Massachusetts Institute of Technology</td>\n",
       "      <td>MA</td>\n",
       "      <td>12195</td>\n",
       "      <td>Urban</td>\n",
       "      <td>173700.0</td>\n",
       "      <td>-71.093539</td>\n",
       "      <td>42.359006</td>\n",
       "      <td>http://web.mit.edu</td>\n",
       "      <td>...</td>\n",
       "      <td>1861.0</td>\n",
       "      <td>MA</td>\n",
       "      <td>Private not-for-profit</td>\n",
       "      <td>Doctoral Universities: Very High Research Acti...</td>\n",
       "      <td>3</td>\n",
       "      <td>12195</td>\n",
       "      <td>4582</td>\n",
       "      <td>35299332.0</td>\n",
       "      <td>75.0</td>\n",
       "      <td>60.0</td>\n",
       "    </tr>\n",
       "    <tr>\n",
       "      <th>1</th>\n",
       "      <td>Stanford University sits just outside of Palo ...</td>\n",
       "      <td>2</td>\n",
       "      <td>Stanford University</td>\n",
       "      <td>CA</td>\n",
       "      <td>20961</td>\n",
       "      <td>Suburban</td>\n",
       "      <td>173500.0</td>\n",
       "      <td>-122.168924</td>\n",
       "      <td>37.431370</td>\n",
       "      <td>http://www.stanford.edu</td>\n",
       "      <td>...</td>\n",
       "      <td>1891.0</td>\n",
       "      <td>CA</td>\n",
       "      <td>Private not-for-profit</td>\n",
       "      <td>Doctoral Universities: Very High Research Acti...</td>\n",
       "      <td>4</td>\n",
       "      <td>20961</td>\n",
       "      <td>8464</td>\n",
       "      <td>51328461.0</td>\n",
       "      <td>70.0</td>\n",
       "      <td>55.0</td>\n",
       "    </tr>\n",
       "    <tr>\n",
       "      <th>2</th>\n",
       "      <td>One of the top public universities in the coun...</td>\n",
       "      <td>2</td>\n",
       "      <td>University of California, Berkeley</td>\n",
       "      <td>CA</td>\n",
       "      <td>45878</td>\n",
       "      <td>Urban</td>\n",
       "      <td>154500.0</td>\n",
       "      <td>-122.258393</td>\n",
       "      <td>37.869236</td>\n",
       "      <td>http://www.berkeley.edu</td>\n",
       "      <td>...</td>\n",
       "      <td>1868.0</td>\n",
       "      <td>CA</td>\n",
       "      <td>Public</td>\n",
       "      <td>Doctoral Universities: Very High Research Acti...</td>\n",
       "      <td>19</td>\n",
       "      <td>45878</td>\n",
       "      <td>33208</td>\n",
       "      <td>64495611.0</td>\n",
       "      <td>63.0</td>\n",
       "      <td>53.0</td>\n",
       "    </tr>\n",
       "    <tr>\n",
       "      <th>3</th>\n",
       "      <td>Princeton is a leading private research univer...</td>\n",
       "      <td>4</td>\n",
       "      <td>Princeton University</td>\n",
       "      <td>NJ</td>\n",
       "      <td>8532</td>\n",
       "      <td>Urban</td>\n",
       "      <td>167600.0</td>\n",
       "      <td>-74.659119</td>\n",
       "      <td>40.349855</td>\n",
       "      <td>http://www.princeton.edu</td>\n",
       "      <td>...</td>\n",
       "      <td>1746.0</td>\n",
       "      <td>NJ</td>\n",
       "      <td>Private not-for-profit</td>\n",
       "      <td>Doctoral Universities: Very High Research Acti...</td>\n",
       "      <td>4</td>\n",
       "      <td>8532</td>\n",
       "      <td>5516</td>\n",
       "      <td>44871096.0</td>\n",
       "      <td>62.0</td>\n",
       "      <td>61.0</td>\n",
       "    </tr>\n",
       "    <tr>\n",
       "      <th>4</th>\n",
       "      <td>Located in upper Manhattan, Columbia Universit...</td>\n",
       "      <td>5</td>\n",
       "      <td>Columbia University</td>\n",
       "      <td>NY</td>\n",
       "      <td>33882</td>\n",
       "      <td>Urban</td>\n",
       "      <td>148800.0</td>\n",
       "      <td>-73.961288</td>\n",
       "      <td>40.806515</td>\n",
       "      <td>http://www.columbia.edu</td>\n",
       "      <td>...</td>\n",
       "      <td>1754.0</td>\n",
       "      <td>NY</td>\n",
       "      <td>Private not-for-profit</td>\n",
       "      <td>Doctoral Universities: Very High Research Acti...</td>\n",
       "      <td>6</td>\n",
       "      <td>33882</td>\n",
       "      <td>8689</td>\n",
       "      <td>44615007.0</td>\n",
       "      <td>58.0</td>\n",
       "      <td>54.0</td>\n",
       "    </tr>\n",
       "  </tbody>\n",
       "</table>\n",
       "<p>5 rows × 25 columns</p>\n",
       "</div>"
      ],
      "text/plain": [
       "                                         description  rank  \\\n",
       "0  A leading global research university, MIT attr...     1   \n",
       "1  Stanford University sits just outside of Palo ...     2   \n",
       "2  One of the top public universities in the coun...     2   \n",
       "3  Princeton is a leading private research univer...     4   \n",
       "4  Located in upper Manhattan, Columbia Universit...     5   \n",
       "\n",
       "                        organizationName state  studentPopulation  \\\n",
       "0  Massachusetts Institute of Technology    MA              12195   \n",
       "1                    Stanford University    CA              20961   \n",
       "2     University of California, Berkeley    CA              45878   \n",
       "3                   Princeton University    NJ               8532   \n",
       "4                    Columbia University    NY              33882   \n",
       "\n",
       "  campusSetting  medianBaseSalary   longitude   latitude  \\\n",
       "0         Urban          173700.0  -71.093539  42.359006   \n",
       "1      Suburban          173500.0 -122.168924  37.431370   \n",
       "2         Urban          154500.0 -122.258393  37.869236   \n",
       "3         Urban          167600.0  -74.659119  40.349855   \n",
       "4         Urban          148800.0  -73.961288  40.806515   \n",
       "\n",
       "                    website  ... yearFounded stateCode  \\\n",
       "0        http://web.mit.edu  ...      1861.0        MA   \n",
       "1   http://www.stanford.edu  ...      1891.0        CA   \n",
       "2   http://www.berkeley.edu  ...      1868.0        CA   \n",
       "3  http://www.princeton.edu  ...      1746.0        NJ   \n",
       "4   http://www.columbia.edu  ...      1754.0        NY   \n",
       "\n",
       "              collegeType                             carnegieClassification  \\\n",
       "0  Private not-for-profit  Doctoral Universities: Very High Research Acti...   \n",
       "1  Private not-for-profit  Doctoral Universities: Very High Research Acti...   \n",
       "2                  Public  Doctoral Universities: Very High Research Acti...   \n",
       "3  Private not-for-profit  Doctoral Universities: Very High Research Acti...   \n",
       "4  Private not-for-profit  Doctoral Universities: Very High Research Acti...   \n",
       "\n",
       "  studentFacultyRatio  totalStudentPop undergradPop totalGrantAid  \\\n",
       "0                   3            12195         4582    35299332.0   \n",
       "1                   4            20961         8464    51328461.0   \n",
       "2                  19            45878        33208    64495611.0   \n",
       "3                   4             8532         5516    44871096.0   \n",
       "4                   6            33882         8689    44615007.0   \n",
       "\n",
       "  percentOfStudentsFinAid  percentOfStudentsGrant  \n",
       "0                    75.0                    60.0  \n",
       "1                    70.0                    55.0  \n",
       "2                    63.0                    53.0  \n",
       "3                    62.0                    61.0  \n",
       "4                    58.0                    54.0  \n",
       "\n",
       "[5 rows x 25 columns]"
      ]
     },
     "execution_count": 2,
     "metadata": {},
     "output_type": "execute_result"
    }
   ],
   "source": [
    "#checking if the dataframe was properly imported and to get more understanding of the data\n",
    "df.info()\n",
    "\n",
    "#display first 5 rows to explore the data\n",
    "df.head()"
   ]
  },
  {
   "cell_type": "code",
   "execution_count": 3,
   "metadata": {},
   "outputs": [
    {
     "data": {
      "text/html": [
       "<div>\n",
       "<style scoped>\n",
       "    .dataframe tbody tr th:only-of-type {\n",
       "        vertical-align: middle;\n",
       "    }\n",
       "\n",
       "    .dataframe tbody tr th {\n",
       "        vertical-align: top;\n",
       "    }\n",
       "\n",
       "    .dataframe thead th {\n",
       "        text-align: right;\n",
       "    }\n",
       "</style>\n",
       "<table border=\"1\" class=\"dataframe\">\n",
       "  <thead>\n",
       "    <tr style=\"text-align: right;\">\n",
       "      <th></th>\n",
       "      <th>rank</th>\n",
       "      <th>studentPopulation</th>\n",
       "      <th>medianBaseSalary</th>\n",
       "      <th>longitude</th>\n",
       "      <th>latitude</th>\n",
       "      <th>yearFounded</th>\n",
       "      <th>studentFacultyRatio</th>\n",
       "      <th>totalStudentPop</th>\n",
       "      <th>undergradPop</th>\n",
       "      <th>totalGrantAid</th>\n",
       "      <th>percentOfStudentsFinAid</th>\n",
       "      <th>percentOfStudentsGrant</th>\n",
       "    </tr>\n",
       "  </thead>\n",
       "  <tbody>\n",
       "    <tr>\n",
       "      <th>count</th>\n",
       "      <td>498.000000</td>\n",
       "      <td>498.000000</td>\n",
       "      <td>491.000000</td>\n",
       "      <td>458.000000</td>\n",
       "      <td>458.000000</td>\n",
       "      <td>451.000000</td>\n",
       "      <td>498.000000</td>\n",
       "      <td>498.000000</td>\n",
       "      <td>498.000000</td>\n",
       "      <td>4.950000e+02</td>\n",
       "      <td>495.000000</td>\n",
       "      <td>495.000000</td>\n",
       "    </tr>\n",
       "    <tr>\n",
       "      <th>mean</th>\n",
       "      <td>249.485944</td>\n",
       "      <td>16073.983936</td>\n",
       "      <td>116382.077393</td>\n",
       "      <td>-88.871596</td>\n",
       "      <td>39.082492</td>\n",
       "      <td>1879.944568</td>\n",
       "      <td>14.120482</td>\n",
       "      <td>16073.983936</td>\n",
       "      <td>12075.550201</td>\n",
       "      <td>2.491186e+07</td>\n",
       "      <td>86.202020</td>\n",
       "      <td>80.939394</td>\n",
       "    </tr>\n",
       "    <tr>\n",
       "      <th>std</th>\n",
       "      <td>143.899350</td>\n",
       "      <td>16284.865007</td>\n",
       "      <td>17161.769465</td>\n",
       "      <td>18.490733</td>\n",
       "      <td>4.481500</td>\n",
       "      <td>50.805940</td>\n",
       "      <td>5.203074</td>\n",
       "      <td>16284.865007</td>\n",
       "      <td>12628.161452</td>\n",
       "      <td>1.936898e+07</td>\n",
       "      <td>14.473891</td>\n",
       "      <td>18.382584</td>\n",
       "    </tr>\n",
       "    <tr>\n",
       "      <th>min</th>\n",
       "      <td>1.000000</td>\n",
       "      <td>421.000000</td>\n",
       "      <td>77300.000000</td>\n",
       "      <td>-157.820047</td>\n",
       "      <td>21.299373</td>\n",
       "      <td>1636.000000</td>\n",
       "      <td>3.000000</td>\n",
       "      <td>421.000000</td>\n",
       "      <td>421.000000</td>\n",
       "      <td>2.307030e+05</td>\n",
       "      <td>40.000000</td>\n",
       "      <td>31.000000</td>\n",
       "    </tr>\n",
       "    <tr>\n",
       "      <th>25%</th>\n",
       "      <td>125.250000</td>\n",
       "      <td>3112.500000</td>\n",
       "      <td>104300.000000</td>\n",
       "      <td>-96.924510</td>\n",
       "      <td>36.105500</td>\n",
       "      <td>1851.000000</td>\n",
       "      <td>10.000000</td>\n",
       "      <td>3112.500000</td>\n",
       "      <td>2613.750000</td>\n",
       "      <td>1.219794e+07</td>\n",
       "      <td>78.000000</td>\n",
       "      <td>67.000000</td>\n",
       "    </tr>\n",
       "    <tr>\n",
       "      <th>50%</th>\n",
       "      <td>249.500000</td>\n",
       "      <td>9850.000000</td>\n",
       "      <td>112800.000000</td>\n",
       "      <td>-84.251869</td>\n",
       "      <td>40.195954</td>\n",
       "      <td>1878.000000</td>\n",
       "      <td>13.500000</td>\n",
       "      <td>9850.000000</td>\n",
       "      <td>6844.500000</td>\n",
       "      <td>1.904380e+07</td>\n",
       "      <td>92.000000</td>\n",
       "      <td>88.000000</td>\n",
       "    </tr>\n",
       "    <tr>\n",
       "      <th>75%</th>\n",
       "      <td>373.750000</td>\n",
       "      <td>24363.000000</td>\n",
       "      <td>125000.000000</td>\n",
       "      <td>-75.471093</td>\n",
       "      <td>42.210113</td>\n",
       "      <td>1908.500000</td>\n",
       "      <td>17.000000</td>\n",
       "      <td>24363.000000</td>\n",
       "      <td>18655.250000</td>\n",
       "      <td>3.218453e+07</td>\n",
       "      <td>98.000000</td>\n",
       "      <td>97.000000</td>\n",
       "    </tr>\n",
       "    <tr>\n",
       "      <th>max</th>\n",
       "      <td>498.000000</td>\n",
       "      <td>102826.000000</td>\n",
       "      <td>173700.000000</td>\n",
       "      <td>85.501600</td>\n",
       "      <td>48.752350</td>\n",
       "      <td>2013.000000</td>\n",
       "      <td>49.000000</td>\n",
       "      <td>102826.000000</td>\n",
       "      <td>84202.000000</td>\n",
       "      <td>1.575583e+08</td>\n",
       "      <td>100.000000</td>\n",
       "      <td>100.000000</td>\n",
       "    </tr>\n",
       "  </tbody>\n",
       "</table>\n",
       "</div>"
      ],
      "text/plain": [
       "             rank  studentPopulation  medianBaseSalary   longitude  \\\n",
       "count  498.000000         498.000000        491.000000  458.000000   \n",
       "mean   249.485944       16073.983936     116382.077393  -88.871596   \n",
       "std    143.899350       16284.865007      17161.769465   18.490733   \n",
       "min      1.000000         421.000000      77300.000000 -157.820047   \n",
       "25%    125.250000        3112.500000     104300.000000  -96.924510   \n",
       "50%    249.500000        9850.000000     112800.000000  -84.251869   \n",
       "75%    373.750000       24363.000000     125000.000000  -75.471093   \n",
       "max    498.000000      102826.000000     173700.000000   85.501600   \n",
       "\n",
       "         latitude  yearFounded  studentFacultyRatio  totalStudentPop  \\\n",
       "count  458.000000   451.000000           498.000000       498.000000   \n",
       "mean    39.082492  1879.944568            14.120482     16073.983936   \n",
       "std      4.481500    50.805940             5.203074     16284.865007   \n",
       "min     21.299373  1636.000000             3.000000       421.000000   \n",
       "25%     36.105500  1851.000000            10.000000      3112.500000   \n",
       "50%     40.195954  1878.000000            13.500000      9850.000000   \n",
       "75%     42.210113  1908.500000            17.000000     24363.000000   \n",
       "max     48.752350  2013.000000            49.000000    102826.000000   \n",
       "\n",
       "       undergradPop  totalGrantAid  percentOfStudentsFinAid  \\\n",
       "count    498.000000   4.950000e+02               495.000000   \n",
       "mean   12075.550201   2.491186e+07                86.202020   \n",
       "std    12628.161452   1.936898e+07                14.473891   \n",
       "min      421.000000   2.307030e+05                40.000000   \n",
       "25%     2613.750000   1.219794e+07                78.000000   \n",
       "50%     6844.500000   1.904380e+07                92.000000   \n",
       "75%    18655.250000   3.218453e+07                98.000000   \n",
       "max    84202.000000   1.575583e+08               100.000000   \n",
       "\n",
       "       percentOfStudentsGrant  \n",
       "count              495.000000  \n",
       "mean                80.939394  \n",
       "std                 18.382584  \n",
       "min                 31.000000  \n",
       "25%                 67.000000  \n",
       "50%                 88.000000  \n",
       "75%                 97.000000  \n",
       "max                100.000000  "
      ]
     },
     "execution_count": 3,
     "metadata": {},
     "output_type": "execute_result"
    }
   ],
   "source": [
    "# Gives summary statistics for available data\n",
    "df.describe()"
   ]
  },
  {
   "cell_type": "code",
   "execution_count": 4,
   "metadata": {},
   "outputs": [
    {
     "name": "stdout",
     "output_type": "stream",
     "text": [
      "columns:\n",
      " Index(['description', 'rank', 'organizationName', 'state', 'studentPopulation',\n",
      "       'campusSetting', 'medianBaseSalary', 'longitude', 'latitude', 'website',\n",
      "       'phoneNumber', 'city', 'country', 'state.1', 'region', 'yearFounded',\n",
      "       'stateCode', 'collegeType', 'carnegieClassification',\n",
      "       'studentFacultyRatio', 'totalStudentPop', 'undergradPop',\n",
      "       'totalGrantAid', 'percentOfStudentsFinAid', 'percentOfStudentsGrant'],\n",
      "      dtype='object')\n",
      "\n",
      "--------------------------------\n",
      "\n",
      "data shape:\n",
      " (498, 25)\n"
     ]
    }
   ],
   "source": [
    "#Exploring column names\n",
    "print(\"columns:\\n\",df.columns)\n",
    "\n",
    "print(\"\\n--------------------------------\\n\")\n",
    "#Exploring data shape\n",
    "#to see number of rows and columns\n",
    "print(\"data shape:\\n\",df.shape)"
   ]
  },
  {
   "cell_type": "markdown",
   "metadata": {
    "azdata_cell_guid": "e172475a-c4ee-414a-8367-9965355dbba6"
   },
   "source": [
    "## Missing Data\n",
    "\n",
    "Test your dataset for missing data and handle it as needed. Make notes in the form of code comments as to your thought process."
   ]
  },
  {
   "cell_type": "code",
   "execution_count": 5,
   "metadata": {},
   "outputs": [
    {
     "data": {
      "text/plain": [
       "<Axes: >"
      ]
     },
     "execution_count": 5,
     "metadata": {},
     "output_type": "execute_result"
    },
    {
     "data": {
      "image/png": "[encoded data removed]",
      "text/plain": [
       "<Figure size 1000x800 with 2 Axes>"
      ]
     },
     "metadata": {},
     "output_type": "display_data"
    }
   ],
   "source": [
    "plt.figure(figsize=(10,8))\n",
    "\n",
    "cols = df.columns[:30]\n",
    "colours = ['#000099', '#ffff00'] # specify colours: yellow - missing. blue - not missing\n",
    "sns.heatmap(df[cols].isna(), cmap=sns.color_palette(colours))"
   ]
  },
  {
   "cell_type": "code",
   "execution_count": 6,
   "metadata": {},
   "outputs": [
    {
     "name": "stdout",
     "output_type": "stream",
     "text": [
      "description                 0\n",
      "rank                        0\n",
      "organizationName            0\n",
      "state                       0\n",
      "studentPopulation           0\n",
      "campusSetting               0\n",
      "medianBaseSalary            7\n",
      "longitude                  40\n",
      "latitude                   40\n",
      "website                    21\n",
      "phoneNumber                70\n",
      "city                        0\n",
      "country                     0\n",
      "state.1                     0\n",
      "region                      9\n",
      "yearFounded                47\n",
      "stateCode                   9\n",
      "collegeType                 0\n",
      "carnegieClassification      0\n",
      "studentFacultyRatio         0\n",
      "totalStudentPop             0\n",
      "undergradPop                0\n",
      "totalGrantAid               3\n",
      "percentOfStudentsFinAid     3\n",
      "percentOfStudentsGrant      3\n",
      "dtype: int64\n"
     ]
    }
   ],
   "source": [
    "#check the number of null values\n",
    "print(df.isnull().sum())"
   ]
  },
  {
   "cell_type": "code",
   "execution_count": 7,
   "metadata": {},
   "outputs": [
    {
     "name": "stdout",
     "output_type": "stream",
     "text": [
      "(498, 23)\n"
     ]
    }
   ],
   "source": [
    "#dropping \"website\",\"phoneNumber\" columns as these columns have many missing data \n",
    "#and it is not that important for this particular project\n",
    "\n",
    "df=df.drop([\"website\",\"phoneNumber\"],axis=1)\n",
    "\n",
    "#\"yearFounded\" column has a large number of missing. but this might be useful in Analysis.\n",
    "#Hence will keep this column and handle it later\n",
    "\n",
    "print(df.shape)"
   ]
  },
  {
   "cell_type": "code",
   "execution_count": 8,
   "metadata": {},
   "outputs": [],
   "source": [
    "# #drop all missing rows\n",
    "# df=df.dropna()"
   ]
  },
  {
   "cell_type": "markdown",
   "metadata": {
    "azdata_cell_guid": "1233f543-e9a0-4f78-96f5-d7536554102e"
   },
   "source": [
    "## Irregular Data\n",
    "\n",
    "Detect outliers in your dataset and handle them as needed. Use code comments to make notes about your thought process."
   ]
  },
  {
   "cell_type": "code",
   "execution_count": 9,
   "metadata": {
    "azdata_cell_guid": "efed50ae-16f0-471d-98e2-632553a74c12"
   },
   "outputs": [],
   "source": [
    "#There are outliers in the columns totalGrantAid, longitude, latitude, medianBaseSalary\n",
    "#totalGrantAid and medianBaseSalary can be replaced by mean value\n"
   ]
  },
  {
   "cell_type": "code",
   "execution_count": 10,
   "metadata": {},
   "outputs": [],
   "source": [
    "#filling missing medianBaseSalaray with mean\n",
    "df =df.fillna(value=df['medianBaseSalary'].mean())\n",
    "\n"
   ]
  },
  {
   "cell_type": "code",
   "execution_count": 11,
   "metadata": {},
   "outputs": [],
   "source": [
    "##filling missing totalGrantAid with mean\n",
    "df = df.fillna(value=df['totalGrantAid'].mean())"
   ]
  },
  {
   "cell_type": "code",
   "execution_count": 12,
   "metadata": {},
   "outputs": [],
   "source": [
    "# Identify the missing latitude and longitude values\n",
    "df.dropna(subset=[\"latitude\", \"longitude\"], inplace=True)\n",
    "\n",
    "# Impute the missing values\n",
    "df[\"latitude\"] = df[\"latitude\"].fillna(np.nanmean(df[\"latitude\"]))\n",
    "df[\"longitude\"] = df[\"longitude\"].fillna(np.nanmean(df[\"longitude\"]))\n"
   ]
  },
  {
   "cell_type": "code",
   "execution_count": 13,
   "metadata": {},
   "outputs": [
    {
     "name": "stdout",
     "output_type": "stream",
     "text": [
      "(498, 23)\n"
     ]
    }
   ],
   "source": [
    "print(df.shape)"
   ]
  },
  {
   "cell_type": "code",
   "execution_count": 14,
   "metadata": {},
   "outputs": [
    {
     "name": "stdout",
     "output_type": "stream",
     "text": [
      "description                0\n",
      "rank                       0\n",
      "organizationName           0\n",
      "state                      0\n",
      "studentPopulation          0\n",
      "campusSetting              0\n",
      "medianBaseSalary           0\n",
      "longitude                  0\n",
      "latitude                   0\n",
      "city                       0\n",
      "country                    0\n",
      "state.1                    0\n",
      "region                     0\n",
      "yearFounded                0\n",
      "stateCode                  0\n",
      "collegeType                0\n",
      "carnegieClassification     0\n",
      "studentFacultyRatio        0\n",
      "totalStudentPop            0\n",
      "undergradPop               0\n",
      "totalGrantAid              0\n",
      "percentOfStudentsFinAid    0\n",
      "percentOfStudentsGrant     0\n",
      "dtype: int64\n",
      "(498, 23)\n"
     ]
    }
   ],
   "source": [
    "#check the number of null values\n",
    "print(df.isnull().sum())\n",
    "\n",
    "print(df.shape)"
   ]
  },
  {
   "cell_type": "markdown",
   "metadata": {
    "azdata_cell_guid": "6f5b8ee0-bab3-44bc-958a-67d1e4c0407f"
   },
   "source": [
    "## Unnecessary Data\n",
    "\n",
    "Look for the different types of unnecessary data in your dataset and address it as needed. Make sure to use code comments to illustrate your thought process."
   ]
  },
  {
   "cell_type": "code",
   "execution_count": 15,
   "metadata": {
    "azdata_cell_guid": "e788a239-2fbf-41de-9bd3-19e52e3b187c"
   },
   "outputs": [],
   "source": [
    "# 'website', and 'phone number' were unnecessary for the our College Analysis to dipict any comarisions. \n",
    "#Since these columns had several missing info,we have already deleted these columns in missing data section.\n",
    "#hence, these unnecessary data were handled"
   ]
  },
  {
   "cell_type": "code",
   "execution_count": 16,
   "metadata": {},
   "outputs": [],
   "source": [
    "#studentPopulation has same values as totalStudentPop, one of the columns becomes unnecessary. \n",
    "#So, we can drop studentPopulation\n",
    "df = df.drop(\"studentPopulation\", axis=1)\n"
   ]
  },
  {
   "cell_type": "markdown",
   "metadata": {
    "azdata_cell_guid": "53e0cf94-c68a-4fa0-9849-9505a66bcce6"
   },
   "source": [
    "## Inconsistent Data\n",
    "\n",
    "Check for inconsistent data and address any that arises. As always, use code comments to illustrate your thought process."
   ]
  },
  {
   "cell_type": "code",
   "execution_count": 17,
   "metadata": {
    "azdata_cell_guid": "e9de6624-812a-43f8-8e20-93b4a49b091f"
   },
   "outputs": [
    {
     "name": "stdout",
     "output_type": "stream",
     "text": [
      "Empty DataFrame\n",
      "Columns: [description, rank, organizationName, state, campusSetting, medianBaseSalary, longitude, latitude, city, country, state.1, region, yearFounded, stateCode, collegeType, carnegieClassification, studentFacultyRatio, totalStudentPop, undergradPop, totalGrantAid, percentOfStudentsFinAid, percentOfStudentsGrant]\n",
      "Index: []\n",
      "\n",
      "[0 rows x 22 columns]\n",
      "0\n"
     ]
    }
   ],
   "source": [
    "# Identify duplicate rows\n",
    "duplicates = df.duplicated()\n",
    "\n",
    "# # Print the duplicate rows\n",
    "print(df[duplicates])\n",
    "print(duplicates.sum())\n",
    "\n",
    "#there are no duplicates\n",
    "#most of the data are consisten in this data set as it is a very small data set.\n",
    "\n",
    "#we are missing large number of latitude and longitude, I replaced missing data with mean. \n",
    "#This is not an ideal solution as we are messing with the location. \n",
    "#I continue to find a way to replace these by converting state, city and region"
   ]
  },
  {
   "cell_type": "code",
   "execution_count": 19,
   "metadata": {},
   "outputs": [
    {
     "name": "stdout",
     "output_type": "stream",
     "text": [
      "columns:\n",
      " Index(['description', 'rank', 'organizationName', 'state', 'campusSetting',\n",
      "       'medianBaseSalary', 'longitude', 'latitude', 'city', 'country',\n",
      "       'state.1', 'region', 'yearFounded', 'stateCode', 'collegeType',\n",
      "       'carnegieClassification', 'studentFacultyRatio', 'totalStudentPop',\n",
      "       'undergradPop', 'totalGrantAid', 'percentOfStudentsFinAid',\n",
      "       'percentOfStudentsGrant'],\n",
      "      dtype='object')\n",
      "\n",
      "--------------------------------\n",
      "\n",
      "data shape:\n",
      " (498, 22)\n"
     ]
    }
   ],
   "source": [
    "print(\"columns:\\n\",df.columns)\n",
    "\n",
    "print(\"\\n--------------------------------\\n\")\n",
    "print(\"data shape:\\n\",df.shape)"
   ]
  },
  {
   "cell_type": "markdown",
   "metadata": {
    "azdata_cell_guid": "dedc0bfe-17d0-40b2-914f-2ddb54f9ce0d"
   },
   "source": [
    "## Summarize Your Results\n",
    "\n",
    "Make note of your answers to the following questions.\n",
    "\n",
    "1. Did you find all four types of dirty data in your dataset? \n",
    "Answer: Yes. some of the types were interrelated. I was able to drop few columns with more missing data as they were also unnecessary. I had to handle rest of them in different manner like replaceing with mean and eliminating duplicate column.\n",
    "2. Did the process of cleaning your data give you new insights into your dataset?\n",
    "Answer: Yes, it did. I was able to understand the corelation of different columns and how to try and vizualize and manipulate in next steps.\n",
    "3. Is there anything you would like to make note of when it comes to manipulating the data and making visualizations?\n",
    "I am still working on a more efficient way of handling latitude and longitude using state, city and region instead of replacing with mean as this is will not give an accurate plot."
   ]
  }
 ],
 "metadata": {
  "kernelspec": {
   "display_name": "Python 3 (ipykernel)",
   "language": "python",
   "name": "python3"
  },
  "language_info": {
   "codemirror_mode": {
    "name": "ipython",
    "version": 3
   },
   "file_extension": ".py",
   "mimetype": "text/x-python",
   "name": "python",
   "nbconvert_exporter": "python",
   "pygments_lexer": "ipython3",
   "version": "3.10.9"
  }
 },
 "nbformat": 4,
 "nbformat_minor": 2
}
